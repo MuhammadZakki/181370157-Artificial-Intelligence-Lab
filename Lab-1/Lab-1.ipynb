{
 "cells": [
  {
   "cell_type": "code",
   "execution_count": 4,
   "id": "9052311c",
   "metadata": {},
   "outputs": [
    {
     "name": "stdout",
     "output_type": "stream",
     "text": [
      "Enter the purchase: 100\n",
      "Amount of purchase:  100\n",
      "State sale tax:  5\n",
      "County sale tax:  2.5\n",
      "Total sale tax:  7.5\n",
      "Total sale:  107.5\n"
     ]
    }
   ],
   "source": [
    "#Task1\n",
    "purchase=int(input(\"Enter the purchase: \"))\n",
    "saleTax=5\n",
    "countyTax=2.5\n",
    "total_sales_tax=saleTax+countyTax\n",
    "total_sale=total_sales_tax+purchase\n",
    "print(\"Amount of purchase: \", purchase)\n",
    "print(\"State sale tax: \", saleTax)\n",
    "print(\"County sale tax: \", countyTax)\n",
    "print(\"Total sale tax: \", total_sales_tax)\n",
    "print(\"Total sale: \", total_sale)"
   ]
  },
  {
   "cell_type": "code",
   "execution_count": 5,
   "id": "1a735530",
   "metadata": {},
   "outputs": [
    {
     "name": "stdout",
     "output_type": "stream",
     "text": [
      "Enter the charge for the food: 20\n",
      "Charges:  20\n",
      "18% of tip:  3.5999999999999996\n",
      "7% of sales_tax:  1.4000000000000001\n",
      "Total amount of meal purchased at restaurant:  25.0\n"
     ]
    }
   ],
   "source": [
    "#Task2\n",
    "charge=int(input(\"Enter the charge for the food: \"))\n",
    "tip=(18/100)*charge\n",
    "sales_tax=(7/100)*charge\n",
    "total=tip+sales_tax\n",
    "total_amount=charge+total\n",
    "print(\"Charges: \",charge)\n",
    "print(\"18% of tip: \",tip)\n",
    "print(\"7% of sales_tax: \",sales_tax)\n",
    "print(\"Total amount of meal purchased at restaurant: \", total_amount)"
   ]
  },
  {
   "cell_type": "code",
   "execution_count": 6,
   "id": "532eb0ba",
   "metadata": {},
   "outputs": [
    {
     "name": "stdout",
     "output_type": "stream",
     "text": [
      "Suger for 1 cookie:  0.03125\n",
      "Butter for 1 cookie:  0.020833333333333332\n",
      "Flour for 1 cookie:  0.057291666666666664\n",
      "How many cookies you want to make: 12\n",
      "No of suger cups:  0.375\n",
      "No of butter cups:  0.25\n",
      "No of flour cups:  0.6875\n"
     ]
    }
   ],
   "source": [
    "#Task3\n",
    "\n",
    "suger=1.5/48\n",
    "print(\"Suger for 1 cookie: \" ,suger)\n",
    "butter=1/48\n",
    "print(\"Butter for 1 cookie: \",butter)\n",
    "flour=2.75/48\n",
    "print(\"Flour for 1 cookie: \",flour)\n",
    "cookie=int(input(\"How many cookies you want to make: \"))\n",
    "print(\"No of suger cups: \", suger*cookie)\n",
    "print(\"No of butter cups: \", butter*cookie)\n",
    "print(\"No of flour cups: \", flour*cookie)"
   ]
  },
  {
   "cell_type": "code",
   "execution_count": 7,
   "id": "e75b157c",
   "metadata": {},
   "outputs": [
    {
     "name": "stdout",
     "output_type": "stream",
     "text": [
      "Enter numbers of male student: 13\n",
      "Enter numbers of female student: 12\n",
      "Total students:  25\n",
      "Male percentage:  52.0\n",
      "Female percentage:  48.0\n"
     ]
    }
   ],
   "source": [
    "#Task4\n",
    "male=int(input(\"Enter numbers of male student: \"))\n",
    "female=int(input(\"Enter numbers of female student: \"))\n",
    "total_students=male+female\n",
    "male_perct=(male/total_students)*100\n",
    "female_perct=(female/total_students)*100\n",
    "print(\"Total students: \", total_students)\n",
    "print(\"Male percentage: \", male_perct)\n",
    "print(\"Female percentage: \", female_perct)\n"
   ]
  },
  {
   "cell_type": "code",
   "execution_count": 8,
   "id": "b365d650",
   "metadata": {},
   "outputs": [
    {
     "name": "stdout",
     "output_type": "stream",
     "text": [
      "it goes to profit :  535.0\n"
     ]
    }
   ],
   "source": [
    "#Task5\n",
    "total_amount=2000*40\n",
    "purchase_dealer=(3/100)*total_amount\n",
    "total_purchase=total_amount+purchase_dealer\n",
    "sale=2000*42.75\n",
    "sale_dealer=(3/100)*sale\n",
    "total_sale=sale-sale_dealer\n",
    "print(\"it goes to profit : \",total_sale-total_purchase)"
   ]
  },
  {
   "cell_type": "code",
   "execution_count": null,
   "id": "2713321f",
   "metadata": {},
   "outputs": [],
   "source": []
  }
 ],
 "metadata": {
  "kernelspec": {
   "display_name": "Python 3",
   "language": "python",
   "name": "python3"
  },
  "language_info": {
   "codemirror_mode": {
    "name": "ipython",
    "version": 3
   },
   "file_extension": ".py",
   "mimetype": "text/x-python",
   "name": "python",
   "nbconvert_exporter": "python",
   "pygments_lexer": "ipython3",
   "version": "3.8.8"
  }
 },
 "nbformat": 4,
 "nbformat_minor": 5
}
