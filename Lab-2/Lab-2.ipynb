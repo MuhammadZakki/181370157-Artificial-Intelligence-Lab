{
 "cells": [
  {
   "cell_type": "code",
   "execution_count": null,
   "id": "7d00a2e9",
   "metadata": {},
   "outputs": [],
   "source": [
    "mass=float(input(\"Enter the object mass:\"))\n",
    "weight=mass*39.8\n",
    "if weight > 500.0:\n",
    "    print(\"It is too heavy.\")\n",
    "if weight < 100.0:\n",
    "    print(\"It is too light\")"
   ]
  },
  {
   "cell_type": "code",
   "execution_count": null,
   "id": "acbdda55",
   "metadata": {},
   "outputs": [],
   "source": [
    "\n",
    "number_of_hotdogs_per_package = 10\n",
    "number_of_buns_per_package = 8\n",
    "\n",
    "number_of_people_attending = int(input(\"Enter number of people: \"))\n",
    "number_of_hotdogs_per_person = int(input(\"Enter number of hot dogs: \"))\n",
    "\n",
    "total_number_of_hotdogs = number_of_people_attending * number_of_hotdogs_per_person\n",
    "\n",
    "number_of_hotdog_packages_needed = total_number_of_hotdogs // number_of_hotdogs_per_package\n",
    "number_of_hotdog_buns_needed = total_number_of_hotdogs // number_of_buns_per_package\n",
    "number_of_hotdogs_left_over = total_number_of_hotdogs % number_of_hotdogs_per_package\n",
    "number_of_hotdog_buns_left_over = total_number_of_hotdogs % number_of_buns_per_package\n",
    "\n",
    "print(\"Minimum number of packages of hot dogs required =\", number_of_hotdog_packages_needed)\n",
    "print(\"Minimum number of packages of hot dog buns required =\", number_of_hotdog_buns_needed)\n",
    "print(\"Number of hot dogs left over =\", number_of_hotdogs_left_over)\n",
    "print(\"Number of hot dogs buns left over =\", number_of_hotdog_buns_left_over)"
   ]
  },
  {
   "cell_type": "code",
   "execution_count": null,
   "id": "44ee08ea",
   "metadata": {},
   "outputs": [],
   "source": [
    "gallons=0\n",
    "total_gallons=0\n",
    "total_miles_driven=0\n",
    "\n",
    "while(gallons!=-1):\n",
    "    gallons=float(input(\"Enter gallons used (-1 to Terminate) =\"))\n",
    "    if(gallons!=-1):\n",
    "        milesDriven=float(input(\"Enter miles driven =\"))\n",
    "\n",
    "        total_gallons+=gallons\n",
    "        total_miles_driven+=milesDriven\n",
    "        print(\"Miles per gallon for tankfill was : \",(milesDriven/gallons))\n",
    "else:\n",
    "    print(\"Average miles/gallon tankfill was : \",(total_miles_driven/total_gallons))"
   ]
  },
  {
   "cell_type": "code",
   "execution_count": null,
   "id": "4fb581de",
   "metadata": {},
   "outputs": [],
   "source": [
    "Quantity_Of_Packages=float(input(\"Enter Quantity of Packages :\"))\n",
    "\n",
    "total_price=Quantity_Of_Packages*99\n",
    "\n",
    "if(Quantity_Of_Packages>=10 and Quantity_Of_Packages<=19):\n",
    "    \n",
    "    print(\"Discount is = \",(total_price*0.1))\n",
    "    print(\"Total Amount = \",(total_price-(total_price*0.1)))\n",
    "    \n",
    "elif(Quantity_Of_Packages>=20 and Quantity_Of_Packages<=49):\n",
    "    \n",
    "    print(\"Discount is = \",(total_price*0.2))\n",
    "    print(\"Total Amount = \",(total_price-(total_price*0.2)))\n",
    "    \n",
    "elif(Quantity_Of_Packages>=50 and Quantity_Of_Packages<=99):\n",
    "    \n",
    "    print(\"Discount is = \",(total_price*0.3))\n",
    "    print(\"Total Amount = \",(total_price-(total_price*0.3)))\n",
    "    \n",
    "elif(Quantity_Of_Packages>=100):\n",
    "    \n",
    "    print(\"Discount is = \",(total_price*0.4))\n",
    "    print(\"Total Amount = \",(total_price-(total_price*0.4)))\n",
    "    \n",
    "else:\n",
    "    \n",
    "    print(\"Thire is no Discount\")\n",
    "    print(\"Total Amount = \",total_price)"
   ]
  },
  {
   "cell_type": "code",
   "execution_count": null,
   "id": "5ceb3f64",
   "metadata": {},
   "outputs": [],
   "source": [
    "weight=float(input(\"Enter weight of packages \"))\n",
    "\n",
    "if(weight<=2):\n",
    "    \n",
    "    print(\"Weight is \",weight,\" so Your Charges are 1.50$\")\n",
    "    \n",
    "elif(weight>2 and weight<=6):\n",
    "    \n",
    "    print(\"Weight is \",weight,\" so Your Charges are 3.00$\")\n",
    "    \n",
    "elif(weight>6 and weight<=10):\n",
    "    \n",
    "    print(\"Weight is \",weight,\"so Your Charges are 4.00$\")\n",
    "    \n",
    "else:\n",
    "    \n",
    "    print(\"Weight is \",weight,\" so Your Charges are 4.75$\")"
   ]
  },
  {
   "cell_type": "code",
   "execution_count": null,
   "id": "3ea83fd8",
   "metadata": {},
   "outputs": [],
   "source": [
    "weight=float(input(\"Enter your weight =\"))\n",
    "height=float(input(\"Enter your height =\"))\n",
    "\n",
    "body_mass=weight * 703 / height**2\n",
    "print(\"Your BMI is :\",round(BMI,2))\n",
    "if(body_mass<18.5):\n",
    "    print(\"You are under weight\")\n",
    "elif(body_mass>25):\n",
    "    print(\"You are over weight\")\n",
    "else:\n",
    "    print(\"You have optimal weight\")"
   ]
  },
  {
   "cell_type": "code",
   "execution_count": null,
   "id": "a0c1f507",
   "metadata": {},
   "outputs": [],
   "source": [
    "budget=float(input(\"Enter budget amount = \"))\n",
    "current_expense=0\n",
    "\n",
    "while(current_expense!=-1):\n",
    "    current_expense=float(input(\"Enter your current expense(-1 to End)\"))\n",
    "    if(current_expense!=-1):\n",
    "        budget-=current_expense\n",
    "else:        \n",
    "    if(budget>0):\n",
    "        print(\"You have \",budget,\"$ left\")\n",
    "    elif(budget<0):\n",
    "        print(\"You are \",(budget*-1),\"$ under budget\")"
   ]
  },
  {
   "cell_type": "code",
   "execution_count": null,
   "id": "bc728a0d",
   "metadata": {},
   "outputs": [],
   "source": [
    "years=int(input(\"Enter number of years =\"))\n",
    "inches_Of_rainfall=0\n",
    "months=0\n",
    "for i in range(years):\n",
    "    for j in range(12):\n",
    "        inches_Of_rain_fall\n",
    "        current_rain_fall=float(input(\"Enter raifall per inch for month \"+str(j+1)+\" was :\"))\n",
    "        inches_Of_rain_fall+=current_rain_fall\n",
    "        months+=1\n",
    "print(\"Total months   :\",months)\n",
    "print(\"Total Rainfall :\",inches_Of_rainfall,\"inches\")\n",
    "print(\"Average rainfall per month :\",round(inches_Of_rain_fall/months,2))"
   ]
  },
  {
   "cell_type": "code",
   "execution_count": null,
   "id": "42970a42",
   "metadata": {},
   "outputs": [],
   "source": [
    "import random\n",
    "num=random.randint(1,1000)\n",
    "\n",
    "guess=int(input(\"Guess my number between 1 and 1000 with the fewest guesses\\nEnter your guess :\"))\n",
    "\n",
    "playFlag=1\n",
    "\n",
    "while(playFlag!=-1):\n",
    "\n",
    "    while(guess!=n):\n",
    "        \n",
    "        if(guess>n):\n",
    "            \n",
    "            guess=int(input(\"Too high. Try again : \"))\n",
    "            \n",
    "        elif(guess<n):\n",
    "            \n",
    "            guess=int(input(\"Too low. Try again  : \"))\n",
    "    else:\n",
    "        print(\"Congratulations. You guessed the number\")\n",
    "        \n",
    "        playFlag=int(input(\"Enter -1 to Exit or any to Play Again!\"))"
   ]
  },
  {
   "cell_type": "code",
   "execution_count": null,
   "id": "59a97b4f",
   "metadata": {},
   "outputs": [],
   "source": []
  }
 ],
 "metadata": {
  "kernelspec": {
   "display_name": "Python 3",
   "language": "python",
   "name": "python3"
  },
  "language_info": {
   "codemirror_mode": {
    "name": "ipython",
    "version": 3
   },
   "file_extension": ".py",
   "mimetype": "text/x-python",
   "name": "python",
   "nbconvert_exporter": "python",
   "pygments_lexer": "ipython3",
   "version": "3.8.8"
  }
 },
 "nbformat": 4,
 "nbformat_minor": 5
}
